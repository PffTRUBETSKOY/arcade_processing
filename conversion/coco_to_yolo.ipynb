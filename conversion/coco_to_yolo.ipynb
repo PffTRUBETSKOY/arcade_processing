{
 "cells": [
  {
   "attachments": {},
   "cell_type": "markdown",
   "metadata": {},
   "source": [
    "### This script allows to convert the provided COCO annotations to YOLOv8 format"
   ]
  },
  {
   "cell_type": "code",
   "execution_count": null,
   "metadata": {},
   "outputs": [],
   "source": [
    "from glob import glob\n",
    "import cv2\n",
    "import json\n",
    "from collections import defaultdict\n",
    "import numpy as np"
   ]
  },
  {
   "cell_type": "code",
   "execution_count": null,
   "metadata": {},
   "outputs": [],
   "source": [
    "folder = glob(\"images/*\")"
   ]
  },
  {
   "cell_type": "code",
   "execution_count": null,
   "metadata": {},
   "outputs": [],
   "source": [
    "with open(\"annotations/instances_default.json\", encoding=\"utf-8\") as coco:\n",
    "    coco_dataset = json.load(coco)"
   ]
  },
  {
   "cell_type": "code",
   "execution_count": null,
   "metadata": {},
   "outputs": [],
   "source": [
    "name_cls = {img[\"id\"]: img[\"file_name\"] for img in coco_dataset[\"images\"]}"
   ]
  },
  {
   "cell_type": "code",
   "execution_count": null,
   "metadata": {},
   "outputs": [],
   "source": [
    "name_anns = defaultdict(list)"
   ]
  },
  {
   "cell_type": "code",
   "execution_count": null,
   "metadata": {},
   "outputs": [],
   "source": [
    "for ann in coco_dataset[\"annotations\"]:\n",
    "    annotation = np.array(ann[\"segmentation\"][0])\n",
    "    annotation[0::2] /= coco_dataset[\"images\"][ann[\"image_id\"]-1][\"width\"]\n",
    "    annotation[1::2] /= coco_dataset[\"images\"][ann[\"image_id\"]-1][\"height\"]\n",
    "    if ann[\"category_id\"] == 1:\n",
    "        print(name_cls[ann[\"image_id\"]])\n",
    "    name_anns[name_cls[ann[\"image_id\"]]].append(str(ann[\"category_id\"]-1) + \" \" + str(list(annotation)).replace(\"[\", \"\").replace(\"]\", \"\").replace(\",\", \"\"))"
   ]
  },
  {
   "cell_type": "code",
   "execution_count": null,
   "metadata": {},
   "outputs": [],
   "source": [
    "for k, v in name_anns.items():\n",
    "    with open(\"labels/\" + k.replace(\"jpg\", \"txt\").replace(\"png\", \"txt\"), \"w\", encoding=\"utf-8\") as file:\n",
    "        file.write(\"\\n\".join(v))"
   ]
  },
  {
   "attachments": {},
   "cell_type": "markdown",
   "metadata": {},
   "source": [
    "### Don't forget to include data.yaml file for YOLO dataset"
   ]
  },
  {
   "cell_type": "markdown",
   "metadata": {},
   "source": []
  }
 ],
 "metadata": {
  "language_info": {
   "name": "python"
  },
  "orig_nbformat": 4
 },
 "nbformat": 4,
 "nbformat_minor": 2
}
