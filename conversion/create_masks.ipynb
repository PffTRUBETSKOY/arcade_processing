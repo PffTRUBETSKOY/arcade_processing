{
 "cells": [
  {
   "cell_type": "code",
   "execution_count": null,
   "metadata": {},
   "outputs": [],
   "source": [
    "from sklearn.metrics import f1_score\n",
    "import cv2\n",
    "import json\n",
    "import numpy as np\n",
    "from collections import defaultdict\n",
    "\n",
    "NUM_IMGS = 21"
   ]
  },
  {
   "attachments": {},
   "cell_type": "markdown",
   "metadata": {},
   "source": [
    "### Read annttotations acnd create polygon masks"
   ]
  },
  {
   "cell_type": "code",
   "execution_count": null,
   "metadata": {},
   "outputs": [],
   "source": [
    "with open(\"annotationfile.json\", encoding=\"utf-8\") as file:\n",
    "    gt = json.load(file)\n",
    "\n",
    "im_anns_gt = defaultdict(list)\n",
    "for ann in gt[\"annotations\"]:\n",
    "    im_anns_gt[ann[\"image_id\"]].append(ann)\n",
    "\n",
    "gt_mask = np.zeros((NUM_IMGS,26,512,512), np.int32)\n",
    "for id, im in im_anns_gt.items():\n",
    "    for ann in im:\n",
    "        points = np.array([ann[\"segmentation\"][0][::2], ann[\"segmentation\"][0][1::2]], np.int32).T\n",
    "        points = points.reshape((-1, 1, 2))\n",
    "        tmp = np.zeros((512,512), np.int32)\n",
    "        cv2.fillPoly(tmp, [points], (1))\n",
    "        gt_mask[id, ann[\"category_id\"]] = tmp"
   ]
  },
  {
   "attachments": {},
   "cell_type": "markdown",
   "metadata": {},
   "source": [
    "### Test the result"
   ]
  },
  {
   "cell_type": "code",
   "execution_count": null,
   "metadata": {},
   "outputs": [],
   "source": [
    "import matplotlib.pyplot as plt\n",
    "plt.imshow(gt_mask[4,2])\n",
    "plt.show()"
   ]
  }
 ],
 "metadata": {
  "language_info": {
   "name": "python"
  },
  "orig_nbformat": 4
 },
 "nbformat": 4,
 "nbformat_minor": 2
}
